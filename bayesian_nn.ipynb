{
 "cells": [
  {
   "cell_type": "code",
   "execution_count": 1,
   "metadata": {},
   "outputs": [],
   "source": [
    "import torch\n",
    "import torch.nn as nn\n",
    "import torch.nn.functional as F\n",
    "from torch import optim\n",
    "import numpy as np\n",
    "import tqdm\n",
    "import matplotlib.pyplot as plt\n",
    "from matplotlib.pyplot import figure"
   ]
  },
  {
   "cell_type": "code",
   "execution_count": 183,
   "metadata": {},
   "outputs": [],
   "source": [
    "class BayesianLayer(nn.Module):\n",
    "    def __init__(self,in_features,out_features,use_bias=True):\n",
    "        super(BayesianLayer, self).__init__()\n",
    "        self.in_features = in_features\n",
    "        self.out_features = out_features\n",
    "        self.use_bias = use_bias\n",
    "\n",
    "\n",
    "        '''\n",
    "        self.mu = nn.Parameter(torch.zeros(in_features, out_features).uniform_(-0.6, 0.6))\n",
    "        self.rho = nn.Parameter(torch.zeros(in_features, out_features).uniform_(-6,-6))\n",
    "\n",
    "        if self.use_bias:\n",
    "            self.bias_mu = nn.Parameter(torch.zeros(out_features).uniform_(-0.6, 0.6))\n",
    "            self.bias_rho = nn.Parameter(torch.zeros(out_features).uniform_(-6,-6)) '''\n",
    "\n",
    "        self.mu = nn.Parameter(torch.normal(0.0, 1.0, (in_features, out_features)))\n",
    "        self.rho = nn.Parameter(torch.zeros(self.in_features,self.out_features)-3)\n",
    "\n",
    "        if self.use_bias:\n",
    "            self.bias_mu = nn.Parameter(torch.normal(0.0, 1.0, (1, out_features)))\n",
    "            self.bias_rho = nn.Parameter(torch.zeros(self.out_features)-3)\n",
    "        \n",
    "    \n",
    "    def forward(self,x):\n",
    "        epsilon = torch.normal(mean = 0.0, std = 1.0, size = self.mu.shape)\n",
    "        \n",
    "        w = self.mu + F.softplus(self.rho) * epsilon\n",
    "\n",
    "        if self.use_bias:\n",
    "            bias_epsilon = torch.normal(mean = 0.0, std = 1.0, size = self.bias_mu.shape)\n",
    "\n",
    "            b = self.bias_mu + F.softplus(self.bias_rho) * bias_epsilon\n",
    "        \n",
    "        if self.use_bias:\n",
    "            return torch.matmul(x,w) + b\n",
    "        else:\n",
    "            return torch.matmul(x,w)\n",
    "\n",
    "        \n",
    "    # total kl loss for the weights in this layer\n",
    "    def compute_layer_kl_loss(self):\n",
    "        layer_kl_loss = torch.sum(self._kl_loss(self.mu,self.rho))\n",
    "\n",
    "        if self.use_bias:\n",
    "            layer_kl_loss += torch.sum(self._kl_loss(self.bias_mu,self.bias_rho)) \n",
    "\n",
    "        return layer_kl_loss\n",
    "    \n",
    "    # kl loss between one weight's posterior and unit Gaussian prior (closed form complexity cost)\n",
    "    def _kl_loss(self,temp_mu,temp_rho):\n",
    "        sigma_squared = F.softplus(temp_rho) ** 2\n",
    "\n",
    "        return -0.5 * (1 + torch.log(sigma_squared) - temp_mu ** 2 - sigma_squared)\n",
    "\n",
    "        \n",
    "\n",
    "class BayesianNet(nn.Module):\n",
    "    def __init__(self, input_size,layer_width, output_size): # input size, num layers, layer_width\n",
    "        super(BayesianNet, self).__init__()\n",
    "\n",
    "        layers = []\n",
    "        layers.append(BayesianLayer(input_size,layer_width))\n",
    "        layers.append(nn.ReLU())\n",
    "        layers.append(BayesianLayer(layer_width,layer_width))\n",
    "        layers.append(nn.ReLU())\n",
    "        layers.append(BayesianLayer(layer_width,output_size))\n",
    "\n",
    "        self.net = nn.Sequential(*layers)\n",
    "\n",
    "\n",
    "    def forward(self,x):\n",
    "        return self.net(x)\n",
    "\n",
    "    def compute_total_kl_loss(self):\n",
    "        total_kl_loss = 0\n",
    "\n",
    "        for i in self.children():  \n",
    "            for j in i.children():\n",
    "                if isinstance(j,BayesianLayer):\n",
    "                    total_kl_loss += j.compute_layer_kl_loss()\n",
    "        return total_kl_loss\n",
    "    \n"
   ]
  },
  {
   "cell_type": "code",
   "execution_count": 3,
   "metadata": {},
   "outputs": [],
   "source": [
    "class MLP(nn.Module):\n",
    "    def __init__(self, input_size,layer_width, output_size): # input size, num layers, layer_width\n",
    "        super(MLP, self).__init__()\n",
    "\n",
    "        layers = []\n",
    "        layers.append(nn.Linear(input_size,layer_width))\n",
    "        layers.append(nn.ReLU())\n",
    "        layers.append(nn.Linear(layer_width,output_size))\n",
    "\n",
    "        self.net = nn.Sequential(*layers)\n",
    "        \n",
    "    def forward(self,x):\n",
    "        return self.net(x)"
   ]
  },
  {
   "cell_type": "code",
   "execution_count": 140,
   "metadata": {},
   "outputs": [],
   "source": [
    "x = torch.arange(start=0.0,end=0.5,step=0.01)\n",
    "y = torch.Tensor([])\n",
    "\n",
    "for temp_x in x:\n",
    "    eps = torch.normal(torch.Tensor([0]),torch.Tensor([0.02]))\n",
    "    temp_y = (temp_x + 0.3 * torch.sin(2*torch.Tensor([np.pi])*(temp_x + eps)) + 0.3 * torch.sin(4 * torch.Tensor([np.pi]) *(temp_x + eps)) + eps)\n",
    "    y = torch.cat((y,temp_y))\n",
    "\n",
    "x = torch.unsqueeze(x,dim=1)\n",
    "y = torch.unsqueeze(y,dim=1)"
   ]
  },
  {
   "cell_type": "code",
   "execution_count": 213,
   "metadata": {},
   "outputs": [
    {
     "name": "stdout",
     "output_type": "stream",
     "text": [
      "epoch: 0, loss: 29.2171\n",
      "epoch: 1000, loss: 0.0594\n",
      "epoch: 2000, loss: 0.0653\n",
      "epoch: 3000, loss: 0.0503\n",
      "epoch: 4000, loss: 0.0421\n",
      "epoch: 5000, loss: 0.0443\n",
      "epoch: 6000, loss: 0.0367\n",
      "epoch: 7000, loss: 0.0341\n",
      "epoch: 8000, loss: 0.0345\n",
      "epoch: 9000, loss: 0.0253\n",
      "epoch: 10000, loss: 0.0214\n"
     ]
    }
   ],
   "source": [
    "model = BayesianNet(1,16,1)\n",
    "optimizer = optim.Adam(model.parameters(), lr=1e-2)\n",
    "criterion = nn.MSELoss()\n",
    "\n",
    "\n",
    "for e in range(10001):\n",
    "\n",
    "    optimizer.zero_grad()\n",
    "\n",
    "    y_pred = model(x)\n",
    "\n",
    "    #KL term encourages q to be more spread out (i.e. more stochasticity in the weights).\n",
    "    loss = criterion(y_pred, y) + 1e-4 * model.compute_total_kl_loss()\n",
    "    \n",
    "    if e%1000==0:\n",
    "        print(f'epoch: {e}, loss: {loss.item():.4f}')\n",
    "\n",
    "\n",
    "    loss.backward()\n",
    "\n",
    "    optimizer.step()\n",
    "\n"
   ]
  },
  {
   "cell_type": "code",
   "execution_count": 214,
   "metadata": {},
   "outputs": [
    {
     "name": "stderr",
     "output_type": "stream",
     "text": [
      "100%|██████████| 50/50 [00:00<00:00, 2173.82it/s]\n"
     ]
    },
    {
     "data": {
      "text/plain": [
       "<matplotlib.legend.Legend at 0x12d8acaf0>"
      ]
     },
     "execution_count": 214,
     "metadata": {},
     "output_type": "execute_result"
    },
    {
     "data": {
      "image/png": "[encoded data removed]",
      "text/plain": [
       "<Figure size 576x576 with 1 Axes>"
      ]
     },
     "metadata": {
      "needs_background": "light"
     },
     "output_type": "display_data"
    }
   ],
   "source": [
    "x_test = torch.arange(start=-0.5,end=1.5,step=0.001)\n",
    "x_test = torch.unsqueeze(x_test,dim=1)\n",
    "\n",
    "y_pred_list = []\n",
    "\n",
    "for i in tqdm.tqdm(range(50)):\n",
    "    y_pred = model(x_test).detach().numpy()\n",
    "    y_pred_list.append(y_pred)\n",
    "\n",
    "\n",
    "y_preds = np.concatenate(y_pred_list, axis=1)\n",
    "\n",
    "y_mean = np.mean(y_preds, axis=1)\n",
    "y_sigma = np.std(y_preds, axis=1)\n",
    "\n",
    "figure(figsize=(8,8))\n",
    "plt.plot(x_test, y_mean, 'r-', label='predictive mean');\n",
    "plt.scatter(x, y, marker='+', label='training data')\n",
    "plt.fill_between(x_test.numpy().ravel(), \n",
    "                 y_mean + 2 * y_sigma, \n",
    "                 y_mean - 2 * y_sigma, \n",
    "                 alpha=0.5, label='epistemic uncertainty')\n",
    "plt.title('prediction')\n",
    "plt.legend()"
   ]
  }
 ],
 "metadata": {
  "interpreter": {
   "hash": "0adcc2737ebf6a4a119f135174df96668767fca1ef1112612db5ecadf2b6d608"
  },
  "kernelspec": {
   "display_name": "Python 3.8.5 64-bit",
   "language": "python",
   "name": "python3"
  },
  "language_info": {
   "codemirror_mode": {
    "name": "ipython",
    "version": 3
   },
   "file_extension": ".py",
   "mimetype": "text/x-python",
   "name": "python",
   "nbconvert_exporter": "python",
   "pygments_lexer": "ipython3",
   "version": "3.8.5"
  },
  "orig_nbformat": 4
 },
 "nbformat": 4,
 "nbformat_minor": 2
}
